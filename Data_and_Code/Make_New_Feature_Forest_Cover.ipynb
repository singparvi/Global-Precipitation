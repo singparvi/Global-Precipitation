{
 "cells": [
  {
   "cell_type": "markdown",
   "metadata": {
    "collapsed": true,
    "pycharm": {
     "name": "#%% md\n"
    }
   },
   "source": [
    "### In this we are trying to make new features by importing from other files to improve our model"
   ]
  },
  {
   "cell_type": "code",
   "execution_count": 131,
   "outputs": [],
   "source": [
    "# import statements\n",
    "import pandas as pd\n"
   ],
   "metadata": {
    "collapsed": false,
    "pycharm": {
     "name": "#%%\n"
    }
   }
  },
  {
   "cell_type": "code",
   "execution_count": 132,
   "outputs": [],
   "source": [
    "# import the global weather data\n",
    "global_weather = pd.read_csv('global_nasa_weather_data.csv')\n",
    "# move the Unnamed: 0 Column\n",
    "global_weather.drop(columns='Unnamed: 0', inplace=True)"
   ],
   "metadata": {
    "collapsed": false,
    "pycharm": {
     "name": "#%%\n"
    }
   }
  },
  {
   "cell_type": "code",
   "execution_count": 133,
   "outputs": [
    {
     "data": {
      "text/plain": "         date  country country_code  lat  long  elevation  specific_humidity  \\\n0  1981-01-01  Andorra           AD  1.5  42.5    1216.58               3.78   \n1  1981-01-02  Andorra           AD  1.5  42.5    1216.58               3.34   \n2  1981-01-03  Andorra           AD  1.5  42.5    1216.58               3.75   \n3  1981-01-04  Andorra           AD  1.5  42.5    1216.58               4.88   \n4  1981-01-05  Andorra           AD  1.5  42.5    1216.58               3.13   \n\n   surface_pressure  skin_temperature  dew_frost  ...  windspeed10m  \\\n0             89.39             -1.60      -1.92  ...          4.93   \n1             89.28             -2.87      -3.47  ...          4.28   \n2             88.74             -2.06      -2.22  ...          3.99   \n3             88.18              1.89       1.48  ...          6.77   \n4             88.68             -3.23      -4.37  ...          5.18   \n\n   windspeed50m  wet_bulb_temp  temp_range  rel_humidity  clearness_index  \\\n0          6.96          -1.91        6.50         98.04           -999.0   \n1          5.81          -3.46        4.30         95.14           -999.0   \n2          5.97          -2.21        5.73         99.22           -999.0   \n3          9.83           1.48        4.46         97.88           -999.0   \n4          7.13          -4.36        4.97         92.19           -999.0   \n\n   clear_sky_insolation  all_sky_insolation  radiative_flux  precipitation  \n0                -999.0              -999.0          -999.0           4.51  \n1                -999.0              -999.0          -999.0           1.62  \n2                -999.0              -999.0          -999.0           0.32  \n3                -999.0              -999.0          -999.0           3.75  \n4                -999.0              -999.0          -999.0           1.09  \n\n[5 rows x 21 columns]",
      "text/html": "<div>\n<style scoped>\n    .dataframe tbody tr th:only-of-type {\n        vertical-align: middle;\n    }\n\n    .dataframe tbody tr th {\n        vertical-align: top;\n    }\n\n    .dataframe thead th {\n        text-align: right;\n    }\n</style>\n<table border=\"1\" class=\"dataframe\">\n  <thead>\n    <tr style=\"text-align: right;\">\n      <th></th>\n      <th>date</th>\n      <th>country</th>\n      <th>country_code</th>\n      <th>lat</th>\n      <th>long</th>\n      <th>elevation</th>\n      <th>specific_humidity</th>\n      <th>surface_pressure</th>\n      <th>skin_temperature</th>\n      <th>dew_frost</th>\n      <th>...</th>\n      <th>windspeed10m</th>\n      <th>windspeed50m</th>\n      <th>wet_bulb_temp</th>\n      <th>temp_range</th>\n      <th>rel_humidity</th>\n      <th>clearness_index</th>\n      <th>clear_sky_insolation</th>\n      <th>all_sky_insolation</th>\n      <th>radiative_flux</th>\n      <th>precipitation</th>\n    </tr>\n  </thead>\n  <tbody>\n    <tr>\n      <th>0</th>\n      <td>1981-01-01</td>\n      <td>Andorra</td>\n      <td>AD</td>\n      <td>1.5</td>\n      <td>42.5</td>\n      <td>1216.58</td>\n      <td>3.78</td>\n      <td>89.39</td>\n      <td>-1.60</td>\n      <td>-1.92</td>\n      <td>...</td>\n      <td>4.93</td>\n      <td>6.96</td>\n      <td>-1.91</td>\n      <td>6.50</td>\n      <td>98.04</td>\n      <td>-999.0</td>\n      <td>-999.0</td>\n      <td>-999.0</td>\n      <td>-999.0</td>\n      <td>4.51</td>\n    </tr>\n    <tr>\n      <th>1</th>\n      <td>1981-01-02</td>\n      <td>Andorra</td>\n      <td>AD</td>\n      <td>1.5</td>\n      <td>42.5</td>\n      <td>1216.58</td>\n      <td>3.34</td>\n      <td>89.28</td>\n      <td>-2.87</td>\n      <td>-3.47</td>\n      <td>...</td>\n      <td>4.28</td>\n      <td>5.81</td>\n      <td>-3.46</td>\n      <td>4.30</td>\n      <td>95.14</td>\n      <td>-999.0</td>\n      <td>-999.0</td>\n      <td>-999.0</td>\n      <td>-999.0</td>\n      <td>1.62</td>\n    </tr>\n    <tr>\n      <th>2</th>\n      <td>1981-01-03</td>\n      <td>Andorra</td>\n      <td>AD</td>\n      <td>1.5</td>\n      <td>42.5</td>\n      <td>1216.58</td>\n      <td>3.75</td>\n      <td>88.74</td>\n      <td>-2.06</td>\n      <td>-2.22</td>\n      <td>...</td>\n      <td>3.99</td>\n      <td>5.97</td>\n      <td>-2.21</td>\n      <td>5.73</td>\n      <td>99.22</td>\n      <td>-999.0</td>\n      <td>-999.0</td>\n      <td>-999.0</td>\n      <td>-999.0</td>\n      <td>0.32</td>\n    </tr>\n    <tr>\n      <th>3</th>\n      <td>1981-01-04</td>\n      <td>Andorra</td>\n      <td>AD</td>\n      <td>1.5</td>\n      <td>42.5</td>\n      <td>1216.58</td>\n      <td>4.88</td>\n      <td>88.18</td>\n      <td>1.89</td>\n      <td>1.48</td>\n      <td>...</td>\n      <td>6.77</td>\n      <td>9.83</td>\n      <td>1.48</td>\n      <td>4.46</td>\n      <td>97.88</td>\n      <td>-999.0</td>\n      <td>-999.0</td>\n      <td>-999.0</td>\n      <td>-999.0</td>\n      <td>3.75</td>\n    </tr>\n    <tr>\n      <th>4</th>\n      <td>1981-01-05</td>\n      <td>Andorra</td>\n      <td>AD</td>\n      <td>1.5</td>\n      <td>42.5</td>\n      <td>1216.58</td>\n      <td>3.13</td>\n      <td>88.68</td>\n      <td>-3.23</td>\n      <td>-4.37</td>\n      <td>...</td>\n      <td>5.18</td>\n      <td>7.13</td>\n      <td>-4.36</td>\n      <td>4.97</td>\n      <td>92.19</td>\n      <td>-999.0</td>\n      <td>-999.0</td>\n      <td>-999.0</td>\n      <td>-999.0</td>\n      <td>1.09</td>\n    </tr>\n  </tbody>\n</table>\n<p>5 rows × 21 columns</p>\n</div>"
     },
     "execution_count": 133,
     "metadata": {},
     "output_type": "execute_result"
    }
   ],
   "source": [
    "# look at the data head\n",
    "global_weather.head()"
   ],
   "metadata": {
    "collapsed": false,
    "pycharm": {
     "name": "#%%\n"
    }
   }
  },
  {
   "cell_type": "code",
   "execution_count": 134,
   "outputs": [
    {
     "data": {
      "text/plain": "  Country Name Country Code        Indicator Name  Indicator Code  1960  1961  \\\n0        Aruba          ABW  Forest area (sq. km)  AG.LND.FRST.K2   NaN   NaN   \n1  Afghanistan          AFG  Forest area (sq. km)  AG.LND.FRST.K2   NaN   NaN   \n2       Angola          AGO  Forest area (sq. km)  AG.LND.FRST.K2   NaN   NaN   \n3      Albania          ALB  Forest area (sq. km)  AG.LND.FRST.K2   NaN   NaN   \n4      Andorra          AND  Forest area (sq. km)  AG.LND.FRST.K2   NaN   NaN   \n\n   1962  1963  1964  1965  ...           2012           2013           2014  \\\n0   NaN   NaN   NaN   NaN  ...       4.200000       4.200000       4.200000   \n1   NaN   NaN   NaN   NaN  ...   13500.000000   13500.000000   13500.000000   \n2   NaN   NaN   NaN   NaN  ...  582303.984375  581056.015625  579808.007812   \n3   NaN   NaN   NaN   NaN  ...    7743.800049    7734.199829    7724.600220   \n4   NaN   NaN   NaN   NaN  ...     160.000000     160.000000     160.000000   \n\n       2015           2016  2017  2018  2019  2020  Unnamed: 65  \n0       4.2       4.200000   NaN   NaN   NaN   NaN          NaN  \n1   13500.0   13500.000000   NaN   NaN   NaN   NaN          NaN  \n2  578560.0  577311.992188   NaN   NaN   NaN   NaN          NaN  \n3    7715.0    7705.399780   NaN   NaN   NaN   NaN          NaN  \n4     160.0     160.000000   NaN   NaN   NaN   NaN          NaN  \n\n[5 rows x 66 columns]",
      "text/html": "<div>\n<style scoped>\n    .dataframe tbody tr th:only-of-type {\n        vertical-align: middle;\n    }\n\n    .dataframe tbody tr th {\n        vertical-align: top;\n    }\n\n    .dataframe thead th {\n        text-align: right;\n    }\n</style>\n<table border=\"1\" class=\"dataframe\">\n  <thead>\n    <tr style=\"text-align: right;\">\n      <th></th>\n      <th>Country Name</th>\n      <th>Country Code</th>\n      <th>Indicator Name</th>\n      <th>Indicator Code</th>\n      <th>1960</th>\n      <th>1961</th>\n      <th>1962</th>\n      <th>1963</th>\n      <th>1964</th>\n      <th>1965</th>\n      <th>...</th>\n      <th>2012</th>\n      <th>2013</th>\n      <th>2014</th>\n      <th>2015</th>\n      <th>2016</th>\n      <th>2017</th>\n      <th>2018</th>\n      <th>2019</th>\n      <th>2020</th>\n      <th>Unnamed: 65</th>\n    </tr>\n  </thead>\n  <tbody>\n    <tr>\n      <th>0</th>\n      <td>Aruba</td>\n      <td>ABW</td>\n      <td>Forest area (sq. km)</td>\n      <td>AG.LND.FRST.K2</td>\n      <td>NaN</td>\n      <td>NaN</td>\n      <td>NaN</td>\n      <td>NaN</td>\n      <td>NaN</td>\n      <td>NaN</td>\n      <td>...</td>\n      <td>4.200000</td>\n      <td>4.200000</td>\n      <td>4.200000</td>\n      <td>4.2</td>\n      <td>4.200000</td>\n      <td>NaN</td>\n      <td>NaN</td>\n      <td>NaN</td>\n      <td>NaN</td>\n      <td>NaN</td>\n    </tr>\n    <tr>\n      <th>1</th>\n      <td>Afghanistan</td>\n      <td>AFG</td>\n      <td>Forest area (sq. km)</td>\n      <td>AG.LND.FRST.K2</td>\n      <td>NaN</td>\n      <td>NaN</td>\n      <td>NaN</td>\n      <td>NaN</td>\n      <td>NaN</td>\n      <td>NaN</td>\n      <td>...</td>\n      <td>13500.000000</td>\n      <td>13500.000000</td>\n      <td>13500.000000</td>\n      <td>13500.0</td>\n      <td>13500.000000</td>\n      <td>NaN</td>\n      <td>NaN</td>\n      <td>NaN</td>\n      <td>NaN</td>\n      <td>NaN</td>\n    </tr>\n    <tr>\n      <th>2</th>\n      <td>Angola</td>\n      <td>AGO</td>\n      <td>Forest area (sq. km)</td>\n      <td>AG.LND.FRST.K2</td>\n      <td>NaN</td>\n      <td>NaN</td>\n      <td>NaN</td>\n      <td>NaN</td>\n      <td>NaN</td>\n      <td>NaN</td>\n      <td>...</td>\n      <td>582303.984375</td>\n      <td>581056.015625</td>\n      <td>579808.007812</td>\n      <td>578560.0</td>\n      <td>577311.992188</td>\n      <td>NaN</td>\n      <td>NaN</td>\n      <td>NaN</td>\n      <td>NaN</td>\n      <td>NaN</td>\n    </tr>\n    <tr>\n      <th>3</th>\n      <td>Albania</td>\n      <td>ALB</td>\n      <td>Forest area (sq. km)</td>\n      <td>AG.LND.FRST.K2</td>\n      <td>NaN</td>\n      <td>NaN</td>\n      <td>NaN</td>\n      <td>NaN</td>\n      <td>NaN</td>\n      <td>NaN</td>\n      <td>...</td>\n      <td>7743.800049</td>\n      <td>7734.199829</td>\n      <td>7724.600220</td>\n      <td>7715.0</td>\n      <td>7705.399780</td>\n      <td>NaN</td>\n      <td>NaN</td>\n      <td>NaN</td>\n      <td>NaN</td>\n      <td>NaN</td>\n    </tr>\n    <tr>\n      <th>4</th>\n      <td>Andorra</td>\n      <td>AND</td>\n      <td>Forest area (sq. km)</td>\n      <td>AG.LND.FRST.K2</td>\n      <td>NaN</td>\n      <td>NaN</td>\n      <td>NaN</td>\n      <td>NaN</td>\n      <td>NaN</td>\n      <td>NaN</td>\n      <td>...</td>\n      <td>160.000000</td>\n      <td>160.000000</td>\n      <td>160.000000</td>\n      <td>160.0</td>\n      <td>160.000000</td>\n      <td>NaN</td>\n      <td>NaN</td>\n      <td>NaN</td>\n      <td>NaN</td>\n      <td>NaN</td>\n    </tr>\n  </tbody>\n</table>\n<p>5 rows × 66 columns</p>\n</div>"
     },
     "execution_count": 134,
     "metadata": {},
     "output_type": "execute_result"
    }
   ],
   "source": [
    "# importing the forest cover data to Fixed-Width Text File to first clean it up\n",
    "forest = pd.read_csv('ForestCover/Forest Area/API_AG.LND.FRST.K2_DS2_en_csv_v2_1927168.csv', skiprows=3)\n",
    "# forest.drop(index=0, inplace=True)\n",
    "forest.head()"
   ],
   "metadata": {
    "collapsed": false,
    "pycharm": {
     "name": "#%%\n"
    }
   }
  },
  {
   "cell_type": "code",
   "execution_count": 135,
   "outputs": [
    {
     "data": {
      "text/plain": "     Country Name Country Code           2000           2001           2002  \\\n0           Aruba          ABW       4.200000       4.200000       4.200000   \n1     Afghanistan          AFG   13500.000000   13500.000000   13500.000000   \n2          Angola          AGO  597280.000000  596031.992188  594783.984375   \n3         Albania          ALB    7692.999878    7719.199829    7745.399780   \n4         Andorra          AND     160.000000     160.000000     160.000000   \n..            ...          ...            ...            ...            ...   \n259        Kosovo          XKX            NaN            NaN            NaN   \n260   Yemen, Rep.          YEM    5490.000000    5490.000000    5490.000000   \n261  South Africa          ZAF   92410.000000   92410.000000   92410.000000   \n262        Zambia          ZMB  511340.000000  509673.984375  508008.007812   \n263      Zimbabwe          ZWE  188940.000000  185670.000000  182400.000000   \n\n              2003           2004           2005           2006  \\\n0         4.200000       4.200000       4.200000       4.200000   \n1     13500.000000   13500.000000   13500.000000   13500.000000   \n2    593536.015625  592288.007812  591040.000000  589791.992188   \n3      7771.599731    7797.800293    7824.000244    7811.799927   \n4       160.000000     160.000000     160.000000     160.000000   \n..             ...            ...            ...            ...   \n259            NaN            NaN            NaN            NaN   \n260    5490.000000    5490.000000    5490.000000    5490.000000   \n261   92410.000000   92410.000000   92410.000000   92410.000000   \n262  506341.992188  504676.015625  503010.000000  501343.984375   \n263  179130.000000  175860.000000  172590.000000  169320.000000   \n\n              2007  ...           2011           2012           2013  \\\n0         4.200000  ...       4.200000       4.200000       4.200000   \n1     13500.000000  ...   13500.000000   13500.000000   13500.000000   \n2    588543.984375  ...  583551.992188  582303.984375  581056.015625   \n3      7799.600220  ...    7753.400269    7743.800049    7734.199829   \n4       160.000000  ...     160.000000     160.000000     160.000000   \n..             ...  ...            ...            ...            ...   \n259            NaN  ...            NaN            NaN            NaN   \n260    5490.000000  ...    5490.000000    5490.000000    5490.000000   \n261   92410.000000  ...   92410.000000   92410.000000   92410.000000   \n262  499678.007812  ...  493013.984375  491348.007812  489681.992188   \n263  166050.000000  ...  153115.996094  149992.001953  146867.998047   \n\n              2014      2015           2016  2017  2018  2019  2020  \n0         4.200000       4.2       4.200000   NaN   NaN   NaN   NaN  \n1     13500.000000   13500.0   13500.000000   NaN   NaN   NaN   NaN  \n2    579808.007812  578560.0  577311.992188   NaN   NaN   NaN   NaN  \n3      7724.600220    7715.0    7705.399780   NaN   NaN   NaN   NaN  \n4       160.000000     160.0     160.000000   NaN   NaN   NaN   NaN  \n..             ...       ...            ...   ...   ...   ...   ...  \n259            NaN       NaN            NaN   NaN   NaN   NaN   NaN  \n260    5490.000000    5490.0    5490.000000   NaN   NaN   NaN   NaN  \n261   92410.000000   92410.0   92410.000000   NaN   NaN   NaN   NaN  \n262  488016.015625  486350.0  484683.984375   NaN   NaN   NaN   NaN  \n263  143744.003906  140620.0  137495.996094   NaN   NaN   NaN   NaN  \n\n[264 rows x 23 columns]",
      "text/html": "<div>\n<style scoped>\n    .dataframe tbody tr th:only-of-type {\n        vertical-align: middle;\n    }\n\n    .dataframe tbody tr th {\n        vertical-align: top;\n    }\n\n    .dataframe thead th {\n        text-align: right;\n    }\n</style>\n<table border=\"1\" class=\"dataframe\">\n  <thead>\n    <tr style=\"text-align: right;\">\n      <th></th>\n      <th>Country Name</th>\n      <th>Country Code</th>\n      <th>2000</th>\n      <th>2001</th>\n      <th>2002</th>\n      <th>2003</th>\n      <th>2004</th>\n      <th>2005</th>\n      <th>2006</th>\n      <th>2007</th>\n      <th>...</th>\n      <th>2011</th>\n      <th>2012</th>\n      <th>2013</th>\n      <th>2014</th>\n      <th>2015</th>\n      <th>2016</th>\n      <th>2017</th>\n      <th>2018</th>\n      <th>2019</th>\n      <th>2020</th>\n    </tr>\n  </thead>\n  <tbody>\n    <tr>\n      <th>0</th>\n      <td>Aruba</td>\n      <td>ABW</td>\n      <td>4.200000</td>\n      <td>4.200000</td>\n      <td>4.200000</td>\n      <td>4.200000</td>\n      <td>4.200000</td>\n      <td>4.200000</td>\n      <td>4.200000</td>\n      <td>4.200000</td>\n      <td>...</td>\n      <td>4.200000</td>\n      <td>4.200000</td>\n      <td>4.200000</td>\n      <td>4.200000</td>\n      <td>4.2</td>\n      <td>4.200000</td>\n      <td>NaN</td>\n      <td>NaN</td>\n      <td>NaN</td>\n      <td>NaN</td>\n    </tr>\n    <tr>\n      <th>1</th>\n      <td>Afghanistan</td>\n      <td>AFG</td>\n      <td>13500.000000</td>\n      <td>13500.000000</td>\n      <td>13500.000000</td>\n      <td>13500.000000</td>\n      <td>13500.000000</td>\n      <td>13500.000000</td>\n      <td>13500.000000</td>\n      <td>13500.000000</td>\n      <td>...</td>\n      <td>13500.000000</td>\n      <td>13500.000000</td>\n      <td>13500.000000</td>\n      <td>13500.000000</td>\n      <td>13500.0</td>\n      <td>13500.000000</td>\n      <td>NaN</td>\n      <td>NaN</td>\n      <td>NaN</td>\n      <td>NaN</td>\n    </tr>\n    <tr>\n      <th>2</th>\n      <td>Angola</td>\n      <td>AGO</td>\n      <td>597280.000000</td>\n      <td>596031.992188</td>\n      <td>594783.984375</td>\n      <td>593536.015625</td>\n      <td>592288.007812</td>\n      <td>591040.000000</td>\n      <td>589791.992188</td>\n      <td>588543.984375</td>\n      <td>...</td>\n      <td>583551.992188</td>\n      <td>582303.984375</td>\n      <td>581056.015625</td>\n      <td>579808.007812</td>\n      <td>578560.0</td>\n      <td>577311.992188</td>\n      <td>NaN</td>\n      <td>NaN</td>\n      <td>NaN</td>\n      <td>NaN</td>\n    </tr>\n    <tr>\n      <th>3</th>\n      <td>Albania</td>\n      <td>ALB</td>\n      <td>7692.999878</td>\n      <td>7719.199829</td>\n      <td>7745.399780</td>\n      <td>7771.599731</td>\n      <td>7797.800293</td>\n      <td>7824.000244</td>\n      <td>7811.799927</td>\n      <td>7799.600220</td>\n      <td>...</td>\n      <td>7753.400269</td>\n      <td>7743.800049</td>\n      <td>7734.199829</td>\n      <td>7724.600220</td>\n      <td>7715.0</td>\n      <td>7705.399780</td>\n      <td>NaN</td>\n      <td>NaN</td>\n      <td>NaN</td>\n      <td>NaN</td>\n    </tr>\n    <tr>\n      <th>4</th>\n      <td>Andorra</td>\n      <td>AND</td>\n      <td>160.000000</td>\n      <td>160.000000</td>\n      <td>160.000000</td>\n      <td>160.000000</td>\n      <td>160.000000</td>\n      <td>160.000000</td>\n      <td>160.000000</td>\n      <td>160.000000</td>\n      <td>...</td>\n      <td>160.000000</td>\n      <td>160.000000</td>\n      <td>160.000000</td>\n      <td>160.000000</td>\n      <td>160.0</td>\n      <td>160.000000</td>\n      <td>NaN</td>\n      <td>NaN</td>\n      <td>NaN</td>\n      <td>NaN</td>\n    </tr>\n    <tr>\n      <th>...</th>\n      <td>...</td>\n      <td>...</td>\n      <td>...</td>\n      <td>...</td>\n      <td>...</td>\n      <td>...</td>\n      <td>...</td>\n      <td>...</td>\n      <td>...</td>\n      <td>...</td>\n      <td>...</td>\n      <td>...</td>\n      <td>...</td>\n      <td>...</td>\n      <td>...</td>\n      <td>...</td>\n      <td>...</td>\n      <td>...</td>\n      <td>...</td>\n      <td>...</td>\n      <td>...</td>\n    </tr>\n    <tr>\n      <th>259</th>\n      <td>Kosovo</td>\n      <td>XKX</td>\n      <td>NaN</td>\n      <td>NaN</td>\n      <td>NaN</td>\n      <td>NaN</td>\n      <td>NaN</td>\n      <td>NaN</td>\n      <td>NaN</td>\n      <td>NaN</td>\n      <td>...</td>\n      <td>NaN</td>\n      <td>NaN</td>\n      <td>NaN</td>\n      <td>NaN</td>\n      <td>NaN</td>\n      <td>NaN</td>\n      <td>NaN</td>\n      <td>NaN</td>\n      <td>NaN</td>\n      <td>NaN</td>\n    </tr>\n    <tr>\n      <th>260</th>\n      <td>Yemen, Rep.</td>\n      <td>YEM</td>\n      <td>5490.000000</td>\n      <td>5490.000000</td>\n      <td>5490.000000</td>\n      <td>5490.000000</td>\n      <td>5490.000000</td>\n      <td>5490.000000</td>\n      <td>5490.000000</td>\n      <td>5490.000000</td>\n      <td>...</td>\n      <td>5490.000000</td>\n      <td>5490.000000</td>\n      <td>5490.000000</td>\n      <td>5490.000000</td>\n      <td>5490.0</td>\n      <td>5490.000000</td>\n      <td>NaN</td>\n      <td>NaN</td>\n      <td>NaN</td>\n      <td>NaN</td>\n    </tr>\n    <tr>\n      <th>261</th>\n      <td>South Africa</td>\n      <td>ZAF</td>\n      <td>92410.000000</td>\n      <td>92410.000000</td>\n      <td>92410.000000</td>\n      <td>92410.000000</td>\n      <td>92410.000000</td>\n      <td>92410.000000</td>\n      <td>92410.000000</td>\n      <td>92410.000000</td>\n      <td>...</td>\n      <td>92410.000000</td>\n      <td>92410.000000</td>\n      <td>92410.000000</td>\n      <td>92410.000000</td>\n      <td>92410.0</td>\n      <td>92410.000000</td>\n      <td>NaN</td>\n      <td>NaN</td>\n      <td>NaN</td>\n      <td>NaN</td>\n    </tr>\n    <tr>\n      <th>262</th>\n      <td>Zambia</td>\n      <td>ZMB</td>\n      <td>511340.000000</td>\n      <td>509673.984375</td>\n      <td>508008.007812</td>\n      <td>506341.992188</td>\n      <td>504676.015625</td>\n      <td>503010.000000</td>\n      <td>501343.984375</td>\n      <td>499678.007812</td>\n      <td>...</td>\n      <td>493013.984375</td>\n      <td>491348.007812</td>\n      <td>489681.992188</td>\n      <td>488016.015625</td>\n      <td>486350.0</td>\n      <td>484683.984375</td>\n      <td>NaN</td>\n      <td>NaN</td>\n      <td>NaN</td>\n      <td>NaN</td>\n    </tr>\n    <tr>\n      <th>263</th>\n      <td>Zimbabwe</td>\n      <td>ZWE</td>\n      <td>188940.000000</td>\n      <td>185670.000000</td>\n      <td>182400.000000</td>\n      <td>179130.000000</td>\n      <td>175860.000000</td>\n      <td>172590.000000</td>\n      <td>169320.000000</td>\n      <td>166050.000000</td>\n      <td>...</td>\n      <td>153115.996094</td>\n      <td>149992.001953</td>\n      <td>146867.998047</td>\n      <td>143744.003906</td>\n      <td>140620.0</td>\n      <td>137495.996094</td>\n      <td>NaN</td>\n      <td>NaN</td>\n      <td>NaN</td>\n      <td>NaN</td>\n    </tr>\n  </tbody>\n</table>\n<p>264 rows × 23 columns</p>\n</div>"
     },
     "execution_count": 135,
     "metadata": {},
     "output_type": "execute_result"
    }
   ],
   "source": [
    "forest.columns\n",
    "condition = ['Country Name', 'Country Code',  '2000', '2001', '2002', '2003', '2004', '2005', '2006', '2007', '2008', '2009', '2010', '2011', '2012', '2013', '2014', '2015', '2016', '2017', '2018', '2019', '2020']\n",
    "forest = forest[condition]\n",
    "forest"
   ],
   "metadata": {
    "collapsed": false,
    "pycharm": {
     "name": "#%%\n"
    }
   }
  },
  {
   "cell_type": "code",
   "execution_count": 136,
   "outputs": [],
   "source": [
    "\n",
    "# Importing three digit country code against two digit\n",
    "code = pd.read_csv('Country_Codes.csv')\n",
    "code.columns = ['Country Code', 'country_code']\n",
    "forest\n",
    "forest = pd.merge(forest, code, on='Country Code')"
   ],
   "metadata": {
    "collapsed": false,
    "pycharm": {
     "name": "#%%\n"
    }
   }
  },
  {
   "cell_type": "code",
   "execution_count": 141,
   "outputs": [
    {
     "data": {
      "text/plain": "  Country Name Country Code      2000           2001           2002  \\\n2       Angola          AGO  597280.0  596031.992188  594783.984375   \n\n            2003           2004      2005           2006           2007  ...  \\\n2  593536.015625  592288.007812  591040.0  589791.992188  588543.984375  ...   \n\n            2012           2013           2014      2015           2016  2017  \\\n2  582303.984375  581056.015625  579808.007812  578560.0  577311.992188   NaN   \n\n   2018  2019  2020  country_code  \n2   NaN   NaN   NaN            AO  \n\n[1 rows x 24 columns]",
      "text/html": "<div>\n<style scoped>\n    .dataframe tbody tr th:only-of-type {\n        vertical-align: middle;\n    }\n\n    .dataframe tbody tr th {\n        vertical-align: top;\n    }\n\n    .dataframe thead th {\n        text-align: right;\n    }\n</style>\n<table border=\"1\" class=\"dataframe\">\n  <thead>\n    <tr style=\"text-align: right;\">\n      <th></th>\n      <th>Country Name</th>\n      <th>Country Code</th>\n      <th>2000</th>\n      <th>2001</th>\n      <th>2002</th>\n      <th>2003</th>\n      <th>2004</th>\n      <th>2005</th>\n      <th>2006</th>\n      <th>2007</th>\n      <th>...</th>\n      <th>2012</th>\n      <th>2013</th>\n      <th>2014</th>\n      <th>2015</th>\n      <th>2016</th>\n      <th>2017</th>\n      <th>2018</th>\n      <th>2019</th>\n      <th>2020</th>\n      <th>country_code</th>\n    </tr>\n  </thead>\n  <tbody>\n    <tr>\n      <th>2</th>\n      <td>Angola</td>\n      <td>AGO</td>\n      <td>597280.0</td>\n      <td>596031.992188</td>\n      <td>594783.984375</td>\n      <td>593536.015625</td>\n      <td>592288.007812</td>\n      <td>591040.0</td>\n      <td>589791.992188</td>\n      <td>588543.984375</td>\n      <td>...</td>\n      <td>582303.984375</td>\n      <td>581056.015625</td>\n      <td>579808.007812</td>\n      <td>578560.0</td>\n      <td>577311.992188</td>\n      <td>NaN</td>\n      <td>NaN</td>\n      <td>NaN</td>\n      <td>NaN</td>\n      <td>AO</td>\n    </tr>\n  </tbody>\n</table>\n<p>1 rows × 24 columns</p>\n</div>"
     },
     "execution_count": 141,
     "metadata": {},
     "output_type": "execute_result"
    }
   ],
   "source": [
    "# forest\n",
    "# forest[forest['Country Name'] == 'Anguilla']\n",
    "forest[forest['Country Name'].str.startswith('Ang')]"
   ],
   "metadata": {
    "collapsed": false,
    "pycharm": {
     "name": "#%%\n"
    }
   }
  },
  {
   "cell_type": "code",
   "execution_count": 107,
   "outputs": [
    {
     "data": {
      "text/plain": "Country Name      0\nCountry Code      0\n2000              7\n2001              7\n2002              7\n2003              7\n2004              7\n2005              7\n2006              7\n2007              7\n2008              7\n2009              7\n2010              7\n2011              5\n2012              5\n2013              5\n2014              5\n2015              5\n2016              6\n2017            215\n2018            215\n2019            215\n2020            215\ncountry_code      1\ndtype: int64"
     },
     "execution_count": 107,
     "metadata": {},
     "output_type": "execute_result"
    }
   ],
   "source": [
    "# displaying the null values of all the dataframe\n",
    "forest.isnull().sum()"
   ],
   "metadata": {
    "collapsed": false,
    "pycharm": {
     "name": "#%%\n"
    }
   }
  },
  {
   "cell_type": "code",
   "execution_count": 108,
   "outputs": [
    {
     "data": {
      "text/plain": "                       2000           2001           2002           2003  \\\ncountry_code                                                               \nAW                 4.200000       4.200000       4.200000       4.200000   \nAF             13500.000000   13500.000000   13500.000000   13500.000000   \nAO            597280.000000  596031.992188  594783.984375  593536.015625   \nAL              7692.999878    7719.199829    7745.399780    7771.599731   \nAD               160.000000     160.000000     160.000000     160.000000   \n...                     ...            ...            ...            ...   \nWS              1710.000000    1710.000000    1710.000000    1710.000000   \nYE              5490.000000    5490.000000    5490.000000    5490.000000   \nZA             92410.000000   92410.000000   92410.000000   92410.000000   \nZM            511340.000000  509673.984375  508008.007812  506341.992188   \nZW            188940.000000  185670.000000  182400.000000  179130.000000   \n\n                       2004           2005           2006           2007  \\\ncountry_code                                                               \nAW                 4.200000       4.200000       4.200000       4.200000   \nAF             13500.000000   13500.000000   13500.000000   13500.000000   \nAO            592288.007812  591040.000000  589791.992188  588543.984375   \nAL              7797.800293    7824.000244    7811.799927    7799.600220   \nAD               160.000000     160.000000     160.000000     160.000000   \n...                     ...            ...            ...            ...   \nWS              1710.000000    1710.000000    1710.000000    1710.000000   \nYE              5490.000000    5490.000000    5490.000000    5490.000000   \nZA             92410.000000   92410.000000   92410.000000   92410.000000   \nZM            504676.015625  503010.000000  501343.984375  499678.007812   \nZW            175860.000000  172590.000000  169320.000000  166050.000000   \n\n                       2008           2009  ...           2011           2012  \\\ncountry_code                                ...                                 \nAW                 4.200000       4.200000  ...       4.200000       4.200000   \nAF             13500.000000   13500.000000  ...   13500.000000   13500.000000   \nAO            587296.015625  586048.007812  ...  583551.992188  582303.984375   \nAL              7787.399902    7775.200195  ...    7753.400269    7743.800049   \nAD               160.000000     160.000000  ...     160.000000     160.000000   \n...                     ...            ...  ...            ...            ...   \nWS              1710.000000    1710.000000  ...    1710.000000    1710.000000   \nYE              5490.000000    5490.000000  ...    5490.000000    5490.000000   \nZA             92410.000000   92410.000000  ...   92410.000000   92410.000000   \nZM            498011.992188  496346.015625  ...  493013.984375  491348.007812   \nZW            162780.000000  159510.000000  ...  153115.996094  149992.001953   \n\n                       2013           2014      2015           2016  2017  \\\ncountry_code                                                                \nAW                 4.200000       4.200000       4.2       4.200000   NaN   \nAF             13500.000000   13500.000000   13500.0   13500.000000   NaN   \nAO            581056.015625  579808.007812  578560.0  577311.992188   NaN   \nAL              7734.199829    7724.600220    7715.0    7705.399780   NaN   \nAD               160.000000     160.000000     160.0     160.000000   NaN   \n...                     ...            ...       ...            ...   ...   \nWS              1710.000000    1710.000000    1710.0    1710.000000   NaN   \nYE              5490.000000    5490.000000    5490.0    5490.000000   NaN   \nZA             92410.000000   92410.000000   92410.0   92410.000000   NaN   \nZM            489681.992188  488016.015625  486350.0  484683.984375   NaN   \nZW            146867.998047  143744.003906  140620.0  137495.996094   NaN   \n\n              2018  2019  2020  \ncountry_code                    \nAW             NaN   NaN   NaN  \nAF             NaN   NaN   NaN  \nAO             NaN   NaN   NaN  \nAL             NaN   NaN   NaN  \nAD             NaN   NaN   NaN  \n...            ...   ...   ...  \nWS             NaN   NaN   NaN  \nYE             NaN   NaN   NaN  \nZA             NaN   NaN   NaN  \nZM             NaN   NaN   NaN  \nZW             NaN   NaN   NaN  \n\n[215 rows x 21 columns]",
      "text/html": "<div>\n<style scoped>\n    .dataframe tbody tr th:only-of-type {\n        vertical-align: middle;\n    }\n\n    .dataframe tbody tr th {\n        vertical-align: top;\n    }\n\n    .dataframe thead th {\n        text-align: right;\n    }\n</style>\n<table border=\"1\" class=\"dataframe\">\n  <thead>\n    <tr style=\"text-align: right;\">\n      <th></th>\n      <th>2000</th>\n      <th>2001</th>\n      <th>2002</th>\n      <th>2003</th>\n      <th>2004</th>\n      <th>2005</th>\n      <th>2006</th>\n      <th>2007</th>\n      <th>2008</th>\n      <th>2009</th>\n      <th>...</th>\n      <th>2011</th>\n      <th>2012</th>\n      <th>2013</th>\n      <th>2014</th>\n      <th>2015</th>\n      <th>2016</th>\n      <th>2017</th>\n      <th>2018</th>\n      <th>2019</th>\n      <th>2020</th>\n    </tr>\n    <tr>\n      <th>country_code</th>\n      <th></th>\n      <th></th>\n      <th></th>\n      <th></th>\n      <th></th>\n      <th></th>\n      <th></th>\n      <th></th>\n      <th></th>\n      <th></th>\n      <th></th>\n      <th></th>\n      <th></th>\n      <th></th>\n      <th></th>\n      <th></th>\n      <th></th>\n      <th></th>\n      <th></th>\n      <th></th>\n      <th></th>\n    </tr>\n  </thead>\n  <tbody>\n    <tr>\n      <th>AW</th>\n      <td>4.200000</td>\n      <td>4.200000</td>\n      <td>4.200000</td>\n      <td>4.200000</td>\n      <td>4.200000</td>\n      <td>4.200000</td>\n      <td>4.200000</td>\n      <td>4.200000</td>\n      <td>4.200000</td>\n      <td>4.200000</td>\n      <td>...</td>\n      <td>4.200000</td>\n      <td>4.200000</td>\n      <td>4.200000</td>\n      <td>4.200000</td>\n      <td>4.2</td>\n      <td>4.200000</td>\n      <td>NaN</td>\n      <td>NaN</td>\n      <td>NaN</td>\n      <td>NaN</td>\n    </tr>\n    <tr>\n      <th>AF</th>\n      <td>13500.000000</td>\n      <td>13500.000000</td>\n      <td>13500.000000</td>\n      <td>13500.000000</td>\n      <td>13500.000000</td>\n      <td>13500.000000</td>\n      <td>13500.000000</td>\n      <td>13500.000000</td>\n      <td>13500.000000</td>\n      <td>13500.000000</td>\n      <td>...</td>\n      <td>13500.000000</td>\n      <td>13500.000000</td>\n      <td>13500.000000</td>\n      <td>13500.000000</td>\n      <td>13500.0</td>\n      <td>13500.000000</td>\n      <td>NaN</td>\n      <td>NaN</td>\n      <td>NaN</td>\n      <td>NaN</td>\n    </tr>\n    <tr>\n      <th>AO</th>\n      <td>597280.000000</td>\n      <td>596031.992188</td>\n      <td>594783.984375</td>\n      <td>593536.015625</td>\n      <td>592288.007812</td>\n      <td>591040.000000</td>\n      <td>589791.992188</td>\n      <td>588543.984375</td>\n      <td>587296.015625</td>\n      <td>586048.007812</td>\n      <td>...</td>\n      <td>583551.992188</td>\n      <td>582303.984375</td>\n      <td>581056.015625</td>\n      <td>579808.007812</td>\n      <td>578560.0</td>\n      <td>577311.992188</td>\n      <td>NaN</td>\n      <td>NaN</td>\n      <td>NaN</td>\n      <td>NaN</td>\n    </tr>\n    <tr>\n      <th>AL</th>\n      <td>7692.999878</td>\n      <td>7719.199829</td>\n      <td>7745.399780</td>\n      <td>7771.599731</td>\n      <td>7797.800293</td>\n      <td>7824.000244</td>\n      <td>7811.799927</td>\n      <td>7799.600220</td>\n      <td>7787.399902</td>\n      <td>7775.200195</td>\n      <td>...</td>\n      <td>7753.400269</td>\n      <td>7743.800049</td>\n      <td>7734.199829</td>\n      <td>7724.600220</td>\n      <td>7715.0</td>\n      <td>7705.399780</td>\n      <td>NaN</td>\n      <td>NaN</td>\n      <td>NaN</td>\n      <td>NaN</td>\n    </tr>\n    <tr>\n      <th>AD</th>\n      <td>160.000000</td>\n      <td>160.000000</td>\n      <td>160.000000</td>\n      <td>160.000000</td>\n      <td>160.000000</td>\n      <td>160.000000</td>\n      <td>160.000000</td>\n      <td>160.000000</td>\n      <td>160.000000</td>\n      <td>160.000000</td>\n      <td>...</td>\n      <td>160.000000</td>\n      <td>160.000000</td>\n      <td>160.000000</td>\n      <td>160.000000</td>\n      <td>160.0</td>\n      <td>160.000000</td>\n      <td>NaN</td>\n      <td>NaN</td>\n      <td>NaN</td>\n      <td>NaN</td>\n    </tr>\n    <tr>\n      <th>...</th>\n      <td>...</td>\n      <td>...</td>\n      <td>...</td>\n      <td>...</td>\n      <td>...</td>\n      <td>...</td>\n      <td>...</td>\n      <td>...</td>\n      <td>...</td>\n      <td>...</td>\n      <td>...</td>\n      <td>...</td>\n      <td>...</td>\n      <td>...</td>\n      <td>...</td>\n      <td>...</td>\n      <td>...</td>\n      <td>...</td>\n      <td>...</td>\n      <td>...</td>\n      <td>...</td>\n    </tr>\n    <tr>\n      <th>WS</th>\n      <td>1710.000000</td>\n      <td>1710.000000</td>\n      <td>1710.000000</td>\n      <td>1710.000000</td>\n      <td>1710.000000</td>\n      <td>1710.000000</td>\n      <td>1710.000000</td>\n      <td>1710.000000</td>\n      <td>1710.000000</td>\n      <td>1710.000000</td>\n      <td>...</td>\n      <td>1710.000000</td>\n      <td>1710.000000</td>\n      <td>1710.000000</td>\n      <td>1710.000000</td>\n      <td>1710.0</td>\n      <td>1710.000000</td>\n      <td>NaN</td>\n      <td>NaN</td>\n      <td>NaN</td>\n      <td>NaN</td>\n    </tr>\n    <tr>\n      <th>YE</th>\n      <td>5490.000000</td>\n      <td>5490.000000</td>\n      <td>5490.000000</td>\n      <td>5490.000000</td>\n      <td>5490.000000</td>\n      <td>5490.000000</td>\n      <td>5490.000000</td>\n      <td>5490.000000</td>\n      <td>5490.000000</td>\n      <td>5490.000000</td>\n      <td>...</td>\n      <td>5490.000000</td>\n      <td>5490.000000</td>\n      <td>5490.000000</td>\n      <td>5490.000000</td>\n      <td>5490.0</td>\n      <td>5490.000000</td>\n      <td>NaN</td>\n      <td>NaN</td>\n      <td>NaN</td>\n      <td>NaN</td>\n    </tr>\n    <tr>\n      <th>ZA</th>\n      <td>92410.000000</td>\n      <td>92410.000000</td>\n      <td>92410.000000</td>\n      <td>92410.000000</td>\n      <td>92410.000000</td>\n      <td>92410.000000</td>\n      <td>92410.000000</td>\n      <td>92410.000000</td>\n      <td>92410.000000</td>\n      <td>92410.000000</td>\n      <td>...</td>\n      <td>92410.000000</td>\n      <td>92410.000000</td>\n      <td>92410.000000</td>\n      <td>92410.000000</td>\n      <td>92410.0</td>\n      <td>92410.000000</td>\n      <td>NaN</td>\n      <td>NaN</td>\n      <td>NaN</td>\n      <td>NaN</td>\n    </tr>\n    <tr>\n      <th>ZM</th>\n      <td>511340.000000</td>\n      <td>509673.984375</td>\n      <td>508008.007812</td>\n      <td>506341.992188</td>\n      <td>504676.015625</td>\n      <td>503010.000000</td>\n      <td>501343.984375</td>\n      <td>499678.007812</td>\n      <td>498011.992188</td>\n      <td>496346.015625</td>\n      <td>...</td>\n      <td>493013.984375</td>\n      <td>491348.007812</td>\n      <td>489681.992188</td>\n      <td>488016.015625</td>\n      <td>486350.0</td>\n      <td>484683.984375</td>\n      <td>NaN</td>\n      <td>NaN</td>\n      <td>NaN</td>\n      <td>NaN</td>\n    </tr>\n    <tr>\n      <th>ZW</th>\n      <td>188940.000000</td>\n      <td>185670.000000</td>\n      <td>182400.000000</td>\n      <td>179130.000000</td>\n      <td>175860.000000</td>\n      <td>172590.000000</td>\n      <td>169320.000000</td>\n      <td>166050.000000</td>\n      <td>162780.000000</td>\n      <td>159510.000000</td>\n      <td>...</td>\n      <td>153115.996094</td>\n      <td>149992.001953</td>\n      <td>146867.998047</td>\n      <td>143744.003906</td>\n      <td>140620.0</td>\n      <td>137495.996094</td>\n      <td>NaN</td>\n      <td>NaN</td>\n      <td>NaN</td>\n      <td>NaN</td>\n    </tr>\n  </tbody>\n</table>\n<p>215 rows × 21 columns</p>\n</div>"
     },
     "execution_count": 108,
     "metadata": {},
     "output_type": "execute_result"
    }
   ],
   "source": [
    "# setting index of the data as columns and removing unnecessary columns\n",
    "forest = forest.set_index('country_code')\n",
    "forest.drop(columns=['Country Code', 'Country Name'], inplace=True)\n",
    "forest\n"
   ],
   "metadata": {
    "collapsed": false,
    "pycharm": {
     "name": "#%%\n"
    }
   }
  },
  {
   "cell_type": "code",
   "execution_count": 109,
   "outputs": [
    {
     "data": {
      "text/plain": "2000      2\n2001      2\n2002      2\n2003      2\n2004      2\n2005      2\n2006      2\n2007      2\n2008      2\n2009      2\n2010      2\n2011      0\n2012      0\n2013      0\n2014      0\n2015      0\n2016      1\n2017    210\n2018    210\n2019    210\n2020    210\ndtype: int64"
     },
     "execution_count": 109,
     "metadata": {},
     "output_type": "execute_result"
    }
   ],
   "source": [
    "# drop rows with all NaN values\n",
    "forest.dropna(axis=0, how='all', inplace=True)\n",
    "forest\n",
    "forest.isnull().sum()"
   ],
   "metadata": {
    "collapsed": false,
    "pycharm": {
     "name": "#%%\n"
    }
   }
  },
  {
   "cell_type": "code",
   "execution_count": 110,
   "outputs": [
    {
     "data": {
      "text/plain": "(210, 21)"
     },
     "execution_count": 110,
     "metadata": {},
     "output_type": "execute_result"
    }
   ],
   "source": [
    "# Extrapolation of data for 2017-2020 using the historical growth or decrese in forest cover using 2015=2016 data\n",
    "\n",
    "# computing the forest cover increase/descrese from previous year first\n",
    "forest['extrapolation_factor'] = (forest['2016']/forest['2015']) -1\n",
    "forest['2017'] = forest['2016']*(1+forest['extrapolation_factor'])\n",
    "forest['2018'] = forest['2017']*(1+forest['extrapolation_factor'])\n",
    "forest['2019'] = forest['2018']*(1+forest['extrapolation_factor'])\n",
    "forest['2020'] = forest['2019']*(1+forest['extrapolation_factor'])\n",
    "forest.drop(columns='extrapolation_factor', inplace=True)\n",
    "forest.shape\n"
   ],
   "metadata": {
    "collapsed": false,
    "pycharm": {
     "name": "#%%\n"
    }
   }
  },
  {
   "cell_type": "code",
   "execution_count": 111,
   "outputs": [
    {
     "data": {
      "text/plain": "              2000  2001  2002  2003  2004  2005  2006  2007  2008  2009  ...  \\\ncountry_code                                                              ...   \nGI             0.0   0.0   0.0   0.0   0.0   0.0   0.0   0.0   0.0   0.0  ...   \nMF            10.0  10.0  10.0  10.0  10.0  10.0  10.0  10.0  10.0  10.0  ...   \nNR             0.0   0.0   0.0   0.0   0.0   0.0   0.0   0.0   0.0   0.0  ...   \nQA             0.0   0.0   0.0   0.0   0.0   0.0   0.0   0.0   0.0   0.0  ...   \nSD             NaN   NaN   NaN   NaN   NaN   NaN   NaN   NaN   NaN   NaN  ...   \nSM             0.0   0.0   0.0   0.0   0.0   0.0   0.0   0.0   0.0   0.0  ...   \nSS             NaN   NaN   NaN   NaN   NaN   NaN   NaN   NaN   NaN   NaN  ...   \n\n                       2011           2012           2013           2014  \\\ncountry_code                                                               \nGI                 0.000000       0.000000       0.000000       0.000000   \nMF                10.000000      10.000000      10.000000      10.000000   \nNR                 0.000000       0.000000       0.000000       0.000000   \nQA                 0.000000       0.000000       0.000000       0.000000   \nSD            199075.996094  197331.796875  195587.695312  193843.496094   \nSM                 0.000000       0.000000       0.000000       0.000000   \nSS             71570.000000   71570.000000   71570.000000   71570.000000   \n\n                       2015           2016           2017           2018  \\\ncountry_code                                                               \nGI                 0.000000       0.000000            NaN            NaN   \nMF                10.000000            NaN            NaN            NaN   \nNR                 0.000000       0.000000            NaN            NaN   \nQA                 0.000000       0.000000            NaN            NaN   \nSD            192099.394531  190355.292969  188627.026387  186914.451018   \nSM                 0.000000       0.000000            NaN            NaN   \nSS             71570.000000   71570.000000   71570.000000   71570.000000   \n\n                       2019          2020  \ncountry_code                               \nGI                      NaN           NaN  \nMF                      NaN           NaN  \nNR                      NaN           NaN  \nQA                      NaN           NaN  \nSD            185217.424399  183535.80536  \nSM                      NaN           NaN  \nSS             71570.000000   71570.00000  \n\n[7 rows x 21 columns]",
      "text/html": "<div>\n<style scoped>\n    .dataframe tbody tr th:only-of-type {\n        vertical-align: middle;\n    }\n\n    .dataframe tbody tr th {\n        vertical-align: top;\n    }\n\n    .dataframe thead th {\n        text-align: right;\n    }\n</style>\n<table border=\"1\" class=\"dataframe\">\n  <thead>\n    <tr style=\"text-align: right;\">\n      <th></th>\n      <th>2000</th>\n      <th>2001</th>\n      <th>2002</th>\n      <th>2003</th>\n      <th>2004</th>\n      <th>2005</th>\n      <th>2006</th>\n      <th>2007</th>\n      <th>2008</th>\n      <th>2009</th>\n      <th>...</th>\n      <th>2011</th>\n      <th>2012</th>\n      <th>2013</th>\n      <th>2014</th>\n      <th>2015</th>\n      <th>2016</th>\n      <th>2017</th>\n      <th>2018</th>\n      <th>2019</th>\n      <th>2020</th>\n    </tr>\n    <tr>\n      <th>country_code</th>\n      <th></th>\n      <th></th>\n      <th></th>\n      <th></th>\n      <th></th>\n      <th></th>\n      <th></th>\n      <th></th>\n      <th></th>\n      <th></th>\n      <th></th>\n      <th></th>\n      <th></th>\n      <th></th>\n      <th></th>\n      <th></th>\n      <th></th>\n      <th></th>\n      <th></th>\n      <th></th>\n      <th></th>\n    </tr>\n  </thead>\n  <tbody>\n    <tr>\n      <th>GI</th>\n      <td>0.0</td>\n      <td>0.0</td>\n      <td>0.0</td>\n      <td>0.0</td>\n      <td>0.0</td>\n      <td>0.0</td>\n      <td>0.0</td>\n      <td>0.0</td>\n      <td>0.0</td>\n      <td>0.0</td>\n      <td>...</td>\n      <td>0.000000</td>\n      <td>0.000000</td>\n      <td>0.000000</td>\n      <td>0.000000</td>\n      <td>0.000000</td>\n      <td>0.000000</td>\n      <td>NaN</td>\n      <td>NaN</td>\n      <td>NaN</td>\n      <td>NaN</td>\n    </tr>\n    <tr>\n      <th>MF</th>\n      <td>10.0</td>\n      <td>10.0</td>\n      <td>10.0</td>\n      <td>10.0</td>\n      <td>10.0</td>\n      <td>10.0</td>\n      <td>10.0</td>\n      <td>10.0</td>\n      <td>10.0</td>\n      <td>10.0</td>\n      <td>...</td>\n      <td>10.000000</td>\n      <td>10.000000</td>\n      <td>10.000000</td>\n      <td>10.000000</td>\n      <td>10.000000</td>\n      <td>NaN</td>\n      <td>NaN</td>\n      <td>NaN</td>\n      <td>NaN</td>\n      <td>NaN</td>\n    </tr>\n    <tr>\n      <th>NR</th>\n      <td>0.0</td>\n      <td>0.0</td>\n      <td>0.0</td>\n      <td>0.0</td>\n      <td>0.0</td>\n      <td>0.0</td>\n      <td>0.0</td>\n      <td>0.0</td>\n      <td>0.0</td>\n      <td>0.0</td>\n      <td>...</td>\n      <td>0.000000</td>\n      <td>0.000000</td>\n      <td>0.000000</td>\n      <td>0.000000</td>\n      <td>0.000000</td>\n      <td>0.000000</td>\n      <td>NaN</td>\n      <td>NaN</td>\n      <td>NaN</td>\n      <td>NaN</td>\n    </tr>\n    <tr>\n      <th>QA</th>\n      <td>0.0</td>\n      <td>0.0</td>\n      <td>0.0</td>\n      <td>0.0</td>\n      <td>0.0</td>\n      <td>0.0</td>\n      <td>0.0</td>\n      <td>0.0</td>\n      <td>0.0</td>\n      <td>0.0</td>\n      <td>...</td>\n      <td>0.000000</td>\n      <td>0.000000</td>\n      <td>0.000000</td>\n      <td>0.000000</td>\n      <td>0.000000</td>\n      <td>0.000000</td>\n      <td>NaN</td>\n      <td>NaN</td>\n      <td>NaN</td>\n      <td>NaN</td>\n    </tr>\n    <tr>\n      <th>SD</th>\n      <td>NaN</td>\n      <td>NaN</td>\n      <td>NaN</td>\n      <td>NaN</td>\n      <td>NaN</td>\n      <td>NaN</td>\n      <td>NaN</td>\n      <td>NaN</td>\n      <td>NaN</td>\n      <td>NaN</td>\n      <td>...</td>\n      <td>199075.996094</td>\n      <td>197331.796875</td>\n      <td>195587.695312</td>\n      <td>193843.496094</td>\n      <td>192099.394531</td>\n      <td>190355.292969</td>\n      <td>188627.026387</td>\n      <td>186914.451018</td>\n      <td>185217.424399</td>\n      <td>183535.80536</td>\n    </tr>\n    <tr>\n      <th>SM</th>\n      <td>0.0</td>\n      <td>0.0</td>\n      <td>0.0</td>\n      <td>0.0</td>\n      <td>0.0</td>\n      <td>0.0</td>\n      <td>0.0</td>\n      <td>0.0</td>\n      <td>0.0</td>\n      <td>0.0</td>\n      <td>...</td>\n      <td>0.000000</td>\n      <td>0.000000</td>\n      <td>0.000000</td>\n      <td>0.000000</td>\n      <td>0.000000</td>\n      <td>0.000000</td>\n      <td>NaN</td>\n      <td>NaN</td>\n      <td>NaN</td>\n      <td>NaN</td>\n    </tr>\n    <tr>\n      <th>SS</th>\n      <td>NaN</td>\n      <td>NaN</td>\n      <td>NaN</td>\n      <td>NaN</td>\n      <td>NaN</td>\n      <td>NaN</td>\n      <td>NaN</td>\n      <td>NaN</td>\n      <td>NaN</td>\n      <td>NaN</td>\n      <td>...</td>\n      <td>71570.000000</td>\n      <td>71570.000000</td>\n      <td>71570.000000</td>\n      <td>71570.000000</td>\n      <td>71570.000000</td>\n      <td>71570.000000</td>\n      <td>71570.000000</td>\n      <td>71570.000000</td>\n      <td>71570.000000</td>\n      <td>71570.00000</td>\n    </tr>\n  </tbody>\n</table>\n<p>7 rows × 21 columns</p>\n</div>"
     },
     "execution_count": 111,
     "metadata": {},
     "output_type": "execute_result"
    }
   ],
   "source": [
    "# check the number of null values\n",
    "condition = forest.isnull().any(axis=1)\n",
    "forest[condition]"
   ],
   "metadata": {
    "collapsed": false,
    "pycharm": {
     "name": "#%%\n"
    }
   }
  },
  {
   "cell_type": "code",
   "execution_count": 112,
   "outputs": [
    {
     "data": {
      "text/plain": "                       2000           2001           2002           2003  \\\ncountry_code                                                               \nAW                 4.200000       4.200000       4.200000       4.200000   \nAF             13500.000000   13500.000000   13500.000000   13500.000000   \nAO            597280.000000  596031.992188  594783.984375  593536.015625   \nAL              7692.999878    7719.199829    7745.399780    7771.599731   \nAD               160.000000     160.000000     160.000000     160.000000   \n...                     ...            ...            ...            ...   \nWS              1710.000000    1710.000000    1710.000000    1710.000000   \nYE              5490.000000    5490.000000    5490.000000    5490.000000   \nZA             92410.000000   92410.000000   92410.000000   92410.000000   \nZM            511340.000000  509673.984375  508008.007812  506341.992188   \nZW            188940.000000  185670.000000  182400.000000  179130.000000   \n\n                       2004           2005           2006           2007  \\\ncountry_code                                                               \nAW                 4.200000       4.200000       4.200000       4.200000   \nAF             13500.000000   13500.000000   13500.000000   13500.000000   \nAO            592288.007812  591040.000000  589791.992188  588543.984375   \nAL              7797.800293    7824.000244    7811.799927    7799.600220   \nAD               160.000000     160.000000     160.000000     160.000000   \n...                     ...            ...            ...            ...   \nWS              1710.000000    1710.000000    1710.000000    1710.000000   \nYE              5490.000000    5490.000000    5490.000000    5490.000000   \nZA             92410.000000   92410.000000   92410.000000   92410.000000   \nZM            504676.015625  503010.000000  501343.984375  499678.007812   \nZW            175860.000000  172590.000000  169320.000000  166050.000000   \n\n                       2008           2009  ...           2011           2012  \\\ncountry_code                                ...                                 \nAW                 4.200000       4.200000  ...       4.200000       4.200000   \nAF             13500.000000   13500.000000  ...   13500.000000   13500.000000   \nAO            587296.015625  586048.007812  ...  583551.992188  582303.984375   \nAL              7787.399902    7775.200195  ...    7753.400269    7743.800049   \nAD               160.000000     160.000000  ...     160.000000     160.000000   \n...                     ...            ...  ...            ...            ...   \nWS              1710.000000    1710.000000  ...    1710.000000    1710.000000   \nYE              5490.000000    5490.000000  ...    5490.000000    5490.000000   \nZA             92410.000000   92410.000000  ...   92410.000000   92410.000000   \nZM            498011.992188  496346.015625  ...  493013.984375  491348.007812   \nZW            162780.000000  159510.000000  ...  153115.996094  149992.001953   \n\n                       2013           2014      2015           2016  \\\ncountry_code                                                          \nAW                 4.200000       4.200000       4.2       4.200000   \nAF             13500.000000   13500.000000   13500.0   13500.000000   \nAO            581056.015625  579808.007812  578560.0  577311.992188   \nAL              7734.199829    7724.600220    7715.0    7705.399780   \nAD               160.000000     160.000000     160.0     160.000000   \n...                     ...            ...       ...            ...   \nWS              1710.000000    1710.000000    1710.0    1710.000000   \nYE              5490.000000    5490.000000    5490.0    5490.000000   \nZA             92410.000000   92410.000000   92410.0   92410.000000   \nZM            489681.992188  488016.015625  486350.0  484683.984375   \nZW            146867.998047  143744.003906  140620.0  137495.996094   \n\n                       2017           2018           2019           2020  \ncountry_code                                                              \nAW                 4.200000       4.200000       4.200000       4.200000  \nAF             13500.000000   13500.000000   13500.000000   13500.000000  \nAO            576066.676444  574824.046963  573584.097949  572346.823621  \nAL              7695.811507    7686.235164    7676.670738    7667.118214  \nAD               160.000000     160.000000     160.000000     160.000000  \n...                     ...            ...            ...            ...  \nWS              1710.000000    1710.000000    1710.000000    1710.000000  \nYE              5490.000000    5490.000000    5490.000000    5490.000000  \nZA             92410.000000   92410.000000   92410.000000   92410.000000  \nZM            483023.675768  481369.054628  479720.101475  478076.796890  \nZW            134441.394836  131454.654382  128534.267141  125678.759016  \n\n[210 rows x 21 columns]",
      "text/html": "<div>\n<style scoped>\n    .dataframe tbody tr th:only-of-type {\n        vertical-align: middle;\n    }\n\n    .dataframe tbody tr th {\n        vertical-align: top;\n    }\n\n    .dataframe thead th {\n        text-align: right;\n    }\n</style>\n<table border=\"1\" class=\"dataframe\">\n  <thead>\n    <tr style=\"text-align: right;\">\n      <th></th>\n      <th>2000</th>\n      <th>2001</th>\n      <th>2002</th>\n      <th>2003</th>\n      <th>2004</th>\n      <th>2005</th>\n      <th>2006</th>\n      <th>2007</th>\n      <th>2008</th>\n      <th>2009</th>\n      <th>...</th>\n      <th>2011</th>\n      <th>2012</th>\n      <th>2013</th>\n      <th>2014</th>\n      <th>2015</th>\n      <th>2016</th>\n      <th>2017</th>\n      <th>2018</th>\n      <th>2019</th>\n      <th>2020</th>\n    </tr>\n    <tr>\n      <th>country_code</th>\n      <th></th>\n      <th></th>\n      <th></th>\n      <th></th>\n      <th></th>\n      <th></th>\n      <th></th>\n      <th></th>\n      <th></th>\n      <th></th>\n      <th></th>\n      <th></th>\n      <th></th>\n      <th></th>\n      <th></th>\n      <th></th>\n      <th></th>\n      <th></th>\n      <th></th>\n      <th></th>\n      <th></th>\n    </tr>\n  </thead>\n  <tbody>\n    <tr>\n      <th>AW</th>\n      <td>4.200000</td>\n      <td>4.200000</td>\n      <td>4.200000</td>\n      <td>4.200000</td>\n      <td>4.200000</td>\n      <td>4.200000</td>\n      <td>4.200000</td>\n      <td>4.200000</td>\n      <td>4.200000</td>\n      <td>4.200000</td>\n      <td>...</td>\n      <td>4.200000</td>\n      <td>4.200000</td>\n      <td>4.200000</td>\n      <td>4.200000</td>\n      <td>4.2</td>\n      <td>4.200000</td>\n      <td>4.200000</td>\n      <td>4.200000</td>\n      <td>4.200000</td>\n      <td>4.200000</td>\n    </tr>\n    <tr>\n      <th>AF</th>\n      <td>13500.000000</td>\n      <td>13500.000000</td>\n      <td>13500.000000</td>\n      <td>13500.000000</td>\n      <td>13500.000000</td>\n      <td>13500.000000</td>\n      <td>13500.000000</td>\n      <td>13500.000000</td>\n      <td>13500.000000</td>\n      <td>13500.000000</td>\n      <td>...</td>\n      <td>13500.000000</td>\n      <td>13500.000000</td>\n      <td>13500.000000</td>\n      <td>13500.000000</td>\n      <td>13500.0</td>\n      <td>13500.000000</td>\n      <td>13500.000000</td>\n      <td>13500.000000</td>\n      <td>13500.000000</td>\n      <td>13500.000000</td>\n    </tr>\n    <tr>\n      <th>AO</th>\n      <td>597280.000000</td>\n      <td>596031.992188</td>\n      <td>594783.984375</td>\n      <td>593536.015625</td>\n      <td>592288.007812</td>\n      <td>591040.000000</td>\n      <td>589791.992188</td>\n      <td>588543.984375</td>\n      <td>587296.015625</td>\n      <td>586048.007812</td>\n      <td>...</td>\n      <td>583551.992188</td>\n      <td>582303.984375</td>\n      <td>581056.015625</td>\n      <td>579808.007812</td>\n      <td>578560.0</td>\n      <td>577311.992188</td>\n      <td>576066.676444</td>\n      <td>574824.046963</td>\n      <td>573584.097949</td>\n      <td>572346.823621</td>\n    </tr>\n    <tr>\n      <th>AL</th>\n      <td>7692.999878</td>\n      <td>7719.199829</td>\n      <td>7745.399780</td>\n      <td>7771.599731</td>\n      <td>7797.800293</td>\n      <td>7824.000244</td>\n      <td>7811.799927</td>\n      <td>7799.600220</td>\n      <td>7787.399902</td>\n      <td>7775.200195</td>\n      <td>...</td>\n      <td>7753.400269</td>\n      <td>7743.800049</td>\n      <td>7734.199829</td>\n      <td>7724.600220</td>\n      <td>7715.0</td>\n      <td>7705.399780</td>\n      <td>7695.811507</td>\n      <td>7686.235164</td>\n      <td>7676.670738</td>\n      <td>7667.118214</td>\n    </tr>\n    <tr>\n      <th>AD</th>\n      <td>160.000000</td>\n      <td>160.000000</td>\n      <td>160.000000</td>\n      <td>160.000000</td>\n      <td>160.000000</td>\n      <td>160.000000</td>\n      <td>160.000000</td>\n      <td>160.000000</td>\n      <td>160.000000</td>\n      <td>160.000000</td>\n      <td>...</td>\n      <td>160.000000</td>\n      <td>160.000000</td>\n      <td>160.000000</td>\n      <td>160.000000</td>\n      <td>160.0</td>\n      <td>160.000000</td>\n      <td>160.000000</td>\n      <td>160.000000</td>\n      <td>160.000000</td>\n      <td>160.000000</td>\n    </tr>\n    <tr>\n      <th>...</th>\n      <td>...</td>\n      <td>...</td>\n      <td>...</td>\n      <td>...</td>\n      <td>...</td>\n      <td>...</td>\n      <td>...</td>\n      <td>...</td>\n      <td>...</td>\n      <td>...</td>\n      <td>...</td>\n      <td>...</td>\n      <td>...</td>\n      <td>...</td>\n      <td>...</td>\n      <td>...</td>\n      <td>...</td>\n      <td>...</td>\n      <td>...</td>\n      <td>...</td>\n      <td>...</td>\n    </tr>\n    <tr>\n      <th>WS</th>\n      <td>1710.000000</td>\n      <td>1710.000000</td>\n      <td>1710.000000</td>\n      <td>1710.000000</td>\n      <td>1710.000000</td>\n      <td>1710.000000</td>\n      <td>1710.000000</td>\n      <td>1710.000000</td>\n      <td>1710.000000</td>\n      <td>1710.000000</td>\n      <td>...</td>\n      <td>1710.000000</td>\n      <td>1710.000000</td>\n      <td>1710.000000</td>\n      <td>1710.000000</td>\n      <td>1710.0</td>\n      <td>1710.000000</td>\n      <td>1710.000000</td>\n      <td>1710.000000</td>\n      <td>1710.000000</td>\n      <td>1710.000000</td>\n    </tr>\n    <tr>\n      <th>YE</th>\n      <td>5490.000000</td>\n      <td>5490.000000</td>\n      <td>5490.000000</td>\n      <td>5490.000000</td>\n      <td>5490.000000</td>\n      <td>5490.000000</td>\n      <td>5490.000000</td>\n      <td>5490.000000</td>\n      <td>5490.000000</td>\n      <td>5490.000000</td>\n      <td>...</td>\n      <td>5490.000000</td>\n      <td>5490.000000</td>\n      <td>5490.000000</td>\n      <td>5490.000000</td>\n      <td>5490.0</td>\n      <td>5490.000000</td>\n      <td>5490.000000</td>\n      <td>5490.000000</td>\n      <td>5490.000000</td>\n      <td>5490.000000</td>\n    </tr>\n    <tr>\n      <th>ZA</th>\n      <td>92410.000000</td>\n      <td>92410.000000</td>\n      <td>92410.000000</td>\n      <td>92410.000000</td>\n      <td>92410.000000</td>\n      <td>92410.000000</td>\n      <td>92410.000000</td>\n      <td>92410.000000</td>\n      <td>92410.000000</td>\n      <td>92410.000000</td>\n      <td>...</td>\n      <td>92410.000000</td>\n      <td>92410.000000</td>\n      <td>92410.000000</td>\n      <td>92410.000000</td>\n      <td>92410.0</td>\n      <td>92410.000000</td>\n      <td>92410.000000</td>\n      <td>92410.000000</td>\n      <td>92410.000000</td>\n      <td>92410.000000</td>\n    </tr>\n    <tr>\n      <th>ZM</th>\n      <td>511340.000000</td>\n      <td>509673.984375</td>\n      <td>508008.007812</td>\n      <td>506341.992188</td>\n      <td>504676.015625</td>\n      <td>503010.000000</td>\n      <td>501343.984375</td>\n      <td>499678.007812</td>\n      <td>498011.992188</td>\n      <td>496346.015625</td>\n      <td>...</td>\n      <td>493013.984375</td>\n      <td>491348.007812</td>\n      <td>489681.992188</td>\n      <td>488016.015625</td>\n      <td>486350.0</td>\n      <td>484683.984375</td>\n      <td>483023.675768</td>\n      <td>481369.054628</td>\n      <td>479720.101475</td>\n      <td>478076.796890</td>\n    </tr>\n    <tr>\n      <th>ZW</th>\n      <td>188940.000000</td>\n      <td>185670.000000</td>\n      <td>182400.000000</td>\n      <td>179130.000000</td>\n      <td>175860.000000</td>\n      <td>172590.000000</td>\n      <td>169320.000000</td>\n      <td>166050.000000</td>\n      <td>162780.000000</td>\n      <td>159510.000000</td>\n      <td>...</td>\n      <td>153115.996094</td>\n      <td>149992.001953</td>\n      <td>146867.998047</td>\n      <td>143744.003906</td>\n      <td>140620.0</td>\n      <td>137495.996094</td>\n      <td>134441.394836</td>\n      <td>131454.654382</td>\n      <td>128534.267141</td>\n      <td>125678.759016</td>\n    </tr>\n  </tbody>\n</table>\n<p>210 rows × 21 columns</p>\n</div>"
     },
     "execution_count": 112,
     "metadata": {},
     "output_type": "execute_result"
    }
   ],
   "source": [
    "forest"
   ],
   "metadata": {
    "collapsed": false,
    "pycharm": {
     "name": "#%%\n"
    }
   }
  },
  {
   "cell_type": "code",
   "execution_count": 113,
   "outputs": [
    {
     "data": {
      "text/plain": "2000    0\n2001    0\n2002    0\n2003    0\n2004    0\n2005    0\n2006    0\n2007    0\n2008    0\n2009    0\n2010    0\n2011    0\n2012    0\n2013    0\n2014    0\n2015    0\n2016    0\n2017    0\n2018    0\n2019    0\n2020    0\ndtype: int64"
     },
     "execution_count": 113,
     "metadata": {},
     "output_type": "execute_result"
    }
   ],
   "source": [
    "\n",
    "\n",
    "# Fill NaN with values using backfill or forward fill\n",
    "forest.fillna(axis=1, method='ffill', inplace=True)\n",
    "forest.fillna(axis=1, method='backfill', inplace=True)\n",
    "forest[condition]\n",
    "# check if there is any nulll values now\n",
    "forest.isnull().sum()"
   ],
   "metadata": {
    "collapsed": false,
    "pycharm": {
     "name": "#%%\n"
    }
   }
  },
  {
   "cell_type": "markdown",
   "source": [
    "#### Investigating the variation in the change of forest cover of various countries."
   ],
   "metadata": {
    "collapsed": false,
    "pycharm": {
     "name": "#%% md\n"
    }
   }
  },
  {
   "cell_type": "code",
   "execution_count": 114,
   "outputs": [
    {
     "name": "stdout",
     "output_type": "stream",
     "text": [
      "<class 'pandas.core.frame.DataFrame'>\n",
      "Index: 210 entries, AW to ZW\n",
      "Data columns (total 21 columns):\n",
      " #   Column  Non-Null Count  Dtype  \n",
      "---  ------  --------------  -----  \n",
      " 0   2000    210 non-null    float64\n",
      " 1   2001    210 non-null    float64\n",
      " 2   2002    210 non-null    float64\n",
      " 3   2003    210 non-null    float64\n",
      " 4   2004    210 non-null    float64\n",
      " 5   2005    210 non-null    float64\n",
      " 6   2006    210 non-null    float64\n",
      " 7   2007    210 non-null    float64\n",
      " 8   2008    210 non-null    float64\n",
      " 9   2009    210 non-null    float64\n",
      " 10  2010    210 non-null    float64\n",
      " 11  2011    210 non-null    float64\n",
      " 12  2012    210 non-null    float64\n",
      " 13  2013    210 non-null    float64\n",
      " 14  2014    210 non-null    float64\n",
      " 15  2015    210 non-null    float64\n",
      " 16  2016    210 non-null    float64\n",
      " 17  2017    210 non-null    float64\n",
      " 18  2018    210 non-null    float64\n",
      " 19  2019    210 non-null    float64\n",
      " 20  2020    210 non-null    float64\n",
      "dtypes: float64(21)\n",
      "memory usage: 36.1+ KB\n"
     ]
    }
   ],
   "source": [
    "# finding the information for forest to see if it can be transposed easily\n",
    "condition = forest['2000'].isnull()\n",
    "forest[condition]\n",
    "forest.info()"
   ],
   "metadata": {
    "collapsed": false,
    "pycharm": {
     "name": "#%%\n"
    }
   }
  },
  {
   "cell_type": "code",
   "execution_count": 115,
   "outputs": [],
   "source": [
    "# # finding out the variation in the forest areas of various countries\n",
    "# forest_T = forest.T\n",
    "# forest_T.drop(columns=['World'], inplace=True)\n",
    "# #assigning the describe to a dataframe\n",
    "# forest_T_describe = forest_T.describe()\n",
    "# # finding the stdev of the standard deviation of the forest datas\n",
    "# forest_T_describe.iloc[2].describe()"
   ],
   "metadata": {
    "collapsed": false,
    "pycharm": {
     "name": "#%%\n"
    }
   }
  },
  {
   "cell_type": "markdown",
   "source": [
    "#### Investigating the variation in the change of forest cover of various countries."
   ],
   "metadata": {
    "collapsed": false,
    "pycharm": {
     "name": "#%% md\n"
    }
   }
  },
  {
   "cell_type": "code",
   "execution_count": 119,
   "outputs": [],
   "source": [
    "#making function to make a DataFrame to merge easily with precipitation dataset\n",
    "def data_by_year(year1, year2):\n",
    "    Data_2001 = pd.DataFrame(forest[year1])\n",
    "    Data_2001.columns = ['Forest_Cover(sq KMs)']\n",
    "    Data_2001 = Data_2001.reset_index()\n",
    "    Data_2001['year'] = year1\n",
    "    Data_2001['country_year'] = Data_2001['country_code'] +'_' + Data_2001['year']\n",
    "    Data_2001 = Data_2001[['country_year', 'Forest_Cover(sq KMs)']]\n",
    "    Data_2001[Data_2001.isna().any(axis=1)]\n",
    "    Data_2001.dropna(inplace=True)\n",
    "    # display(Data_2001)\n",
    "\n",
    "    # next year\n",
    "    Data_2002 = pd.DataFrame(forest[year2])\n",
    "    Data_2002.columns = ['Forest_Cover(sq KMs)']\n",
    "    Data_2002 = Data_2002.reset_index()\n",
    "    Data_2002['year'] = year2\n",
    "    Data_2002['country_year'] = Data_2002['country_code'] +'_' + Data_2002['year']\n",
    "    Data_2002 = Data_2002[['country_year', 'Forest_Cover(sq KMs)']]\n",
    "    Data_2002[Data_2002.isna().any(axis=1)]\n",
    "    Data_2002.dropna(inplace=True)\n",
    "    # display(Data_2002)\n",
    "    return (pd.concat([Data_2001, Data_2002]))\n",
    "\n",
    "test1= data_by_year('2001','2002')\n",
    "test2= data_by_year('2003','2004')\n",
    "test3= data_by_year('2005','2006')\n",
    "test4= data_by_year('2007','2008')\n",
    "test5= data_by_year('2009','2010')\n",
    "test6= data_by_year('2011','2012')\n",
    "test7= data_by_year('2013','2014')\n",
    "test8= data_by_year('2015','2016')\n",
    "test9= data_by_year('2017','2018')\n",
    "test10= data_by_year('2019','2020')\n",
    "\n",
    "final = pd.concat([test1, test2, test3, test4, test5, test6, test7, test8, test9, test10])\n",
    "\n",
    "final.to_csv('ForestCover.csv')\n"
   ],
   "metadata": {
    "collapsed": false,
    "pycharm": {
     "name": "#%%\n"
    }
   }
  },
  {
   "cell_type": "code",
   "execution_count": 118,
   "outputs": [
    {
     "data": {
      "text/plain": "    country_year  Forest_Cover(sq KMs)\n0        AW_2001              4.200000\n1        AF_2001          13500.000000\n2        AO_2001         596031.992188\n3        AL_2001           7719.199829\n4        AD_2001            160.000000\n..           ...                   ...\n205      WS_2020           1710.000000\n206      YE_2020           5490.000000\n207      ZA_2020          92410.000000\n208      ZM_2020         478076.796890\n209      ZW_2020         125678.759016\n\n[4180 rows x 2 columns]",
      "text/html": "<div>\n<style scoped>\n    .dataframe tbody tr th:only-of-type {\n        vertical-align: middle;\n    }\n\n    .dataframe tbody tr th {\n        vertical-align: top;\n    }\n\n    .dataframe thead th {\n        text-align: right;\n    }\n</style>\n<table border=\"1\" class=\"dataframe\">\n  <thead>\n    <tr style=\"text-align: right;\">\n      <th></th>\n      <th>country_year</th>\n      <th>Forest_Cover(sq KMs)</th>\n    </tr>\n  </thead>\n  <tbody>\n    <tr>\n      <th>0</th>\n      <td>AW_2001</td>\n      <td>4.200000</td>\n    </tr>\n    <tr>\n      <th>1</th>\n      <td>AF_2001</td>\n      <td>13500.000000</td>\n    </tr>\n    <tr>\n      <th>2</th>\n      <td>AO_2001</td>\n      <td>596031.992188</td>\n    </tr>\n    <tr>\n      <th>3</th>\n      <td>AL_2001</td>\n      <td>7719.199829</td>\n    </tr>\n    <tr>\n      <th>4</th>\n      <td>AD_2001</td>\n      <td>160.000000</td>\n    </tr>\n    <tr>\n      <th>...</th>\n      <td>...</td>\n      <td>...</td>\n    </tr>\n    <tr>\n      <th>205</th>\n      <td>WS_2020</td>\n      <td>1710.000000</td>\n    </tr>\n    <tr>\n      <th>206</th>\n      <td>YE_2020</td>\n      <td>5490.000000</td>\n    </tr>\n    <tr>\n      <th>207</th>\n      <td>ZA_2020</td>\n      <td>92410.000000</td>\n    </tr>\n    <tr>\n      <th>208</th>\n      <td>ZM_2020</td>\n      <td>478076.796890</td>\n    </tr>\n    <tr>\n      <th>209</th>\n      <td>ZW_2020</td>\n      <td>125678.759016</td>\n    </tr>\n  </tbody>\n</table>\n<p>4180 rows × 2 columns</p>\n</div>"
     },
     "execution_count": 118,
     "metadata": {},
     "output_type": "execute_result"
    }
   ],
   "source": [
    "final"
   ],
   "metadata": {
    "collapsed": false,
    "pycharm": {
     "name": "#%%\n"
    }
   }
  },
  {
   "cell_type": "code",
   "execution_count": null,
   "outputs": [],
   "source": [],
   "metadata": {
    "collapsed": false,
    "pycharm": {
     "name": "#%%\n"
    }
   }
  },
  {
   "cell_type": "code",
   "execution_count": null,
   "outputs": [],
   "source": [],
   "metadata": {
    "collapsed": false,
    "pycharm": {
     "name": "#%%\n"
    }
   }
  },
  {
   "cell_type": "code",
   "execution_count": null,
   "outputs": [],
   "source": [],
   "metadata": {
    "collapsed": false,
    "pycharm": {
     "name": "#%%\n"
    }
   }
  }
 ],
 "metadata": {
  "kernelspec": {
   "display_name": "Python 3",
   "language": "python",
   "name": "python3"
  },
  "language_info": {
   "codemirror_mode": {
    "name": "ipython",
    "version": 2
   },
   "file_extension": ".py",
   "mimetype": "text/x-python",
   "name": "python",
   "nbconvert_exporter": "python",
   "pygments_lexer": "ipython2",
   "version": "2.7.6"
  }
 },
 "nbformat": 4,
 "nbformat_minor": 0
}